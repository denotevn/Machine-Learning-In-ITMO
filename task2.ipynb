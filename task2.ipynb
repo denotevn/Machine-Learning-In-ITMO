{
  "nbformat": 4,
  "nbformat_minor": 0,
  "metadata": {
    "colab": {
      "name": "task2.ipynb",
      "provenance": [],
      "collapsed_sections": [],
      "mount_file_id": "1pc3QIpLtAwx171k8bdMbJVXNSmdJSWWa",
      "authorship_tag": "ABX9TyNMmaCKBDX+LnYh2wH/85Ln",
      "include_colab_link": true
    },
    "kernelspec": {
      "name": "python3",
      "display_name": "Python 3"
    },
    "language_info": {
      "name": "python"
    }
  },
  "cells": [
    {
      "cell_type": "markdown",
      "metadata": {
        "id": "view-in-github",
        "colab_type": "text"
      },
      "source": [
        "<a href=\"https://colab.research.google.com/github/denotevn/Machine-Learning-In-ITMO/blob/main/task2.ipynb\" target=\"_parent\"><img src=\"https://colab.research.google.com/assets/colab-badge.svg\" alt=\"Open In Colab\"/></a>"
      ]
    },
    {
      "cell_type": "code",
      "execution_count": null,
      "metadata": {
        "colab": {
          "base_uri": "https://localhost:8080/",
          "height": 206
        },
        "id": "-2BszYzuEJFp",
        "outputId": "ab768db3-9f62-4fd1-8254-9b8111172386"
      },
      "outputs": [
        {
          "output_type": "execute_result",
          "data": {
            "text/plain": [
              "           0          1          2          3          4          5  \\\n",
              "0  13.255663  -3.970881   2.796957  -6.344109  24.017276 -18.697087   \n",
              "1 -26.357436   7.110444  16.870685   4.426741  15.145726  17.248351   \n",
              "2  -3.576196 -18.649942  24.643430 -14.978293  -9.286028   8.377791   \n",
              "3 -23.203200   8.301919  16.095409   7.643220  16.914143  16.649280   \n",
              "4   9.998677  -0.640020   2.602077  -4.334787  22.336607 -23.446092   \n",
              "\n",
              "           6          7          8          9  \n",
              "0  21.128203 -18.501314  -0.839574 -16.191357  \n",
              "1 -12.547473  17.486641  -9.131461 -20.452525  \n",
              "2   4.414909 -12.870903  15.586781  -0.174785  \n",
              "3  -8.603661  16.012082 -11.373881 -21.142902  \n",
              "4  20.818255 -17.437508  -0.637234 -16.413384  "
            ],
            "text/html": [
              "\n",
              "  <div id=\"df-30d8d4ac-53a3-48bc-a7c4-b6bb5b222ca2\">\n",
              "    <div class=\"colab-df-container\">\n",
              "      <div>\n",
              "<style scoped>\n",
              "    .dataframe tbody tr th:only-of-type {\n",
              "        vertical-align: middle;\n",
              "    }\n",
              "\n",
              "    .dataframe tbody tr th {\n",
              "        vertical-align: top;\n",
              "    }\n",
              "\n",
              "    .dataframe thead th {\n",
              "        text-align: right;\n",
              "    }\n",
              "</style>\n",
              "<table border=\"1\" class=\"dataframe\">\n",
              "  <thead>\n",
              "    <tr style=\"text-align: right;\">\n",
              "      <th></th>\n",
              "      <th>0</th>\n",
              "      <th>1</th>\n",
              "      <th>2</th>\n",
              "      <th>3</th>\n",
              "      <th>4</th>\n",
              "      <th>5</th>\n",
              "      <th>6</th>\n",
              "      <th>7</th>\n",
              "      <th>8</th>\n",
              "      <th>9</th>\n",
              "    </tr>\n",
              "  </thead>\n",
              "  <tbody>\n",
              "    <tr>\n",
              "      <th>0</th>\n",
              "      <td>13.255663</td>\n",
              "      <td>-3.970881</td>\n",
              "      <td>2.796957</td>\n",
              "      <td>-6.344109</td>\n",
              "      <td>24.017276</td>\n",
              "      <td>-18.697087</td>\n",
              "      <td>21.128203</td>\n",
              "      <td>-18.501314</td>\n",
              "      <td>-0.839574</td>\n",
              "      <td>-16.191357</td>\n",
              "    </tr>\n",
              "    <tr>\n",
              "      <th>1</th>\n",
              "      <td>-26.357436</td>\n",
              "      <td>7.110444</td>\n",
              "      <td>16.870685</td>\n",
              "      <td>4.426741</td>\n",
              "      <td>15.145726</td>\n",
              "      <td>17.248351</td>\n",
              "      <td>-12.547473</td>\n",
              "      <td>17.486641</td>\n",
              "      <td>-9.131461</td>\n",
              "      <td>-20.452525</td>\n",
              "    </tr>\n",
              "    <tr>\n",
              "      <th>2</th>\n",
              "      <td>-3.576196</td>\n",
              "      <td>-18.649942</td>\n",
              "      <td>24.643430</td>\n",
              "      <td>-14.978293</td>\n",
              "      <td>-9.286028</td>\n",
              "      <td>8.377791</td>\n",
              "      <td>4.414909</td>\n",
              "      <td>-12.870903</td>\n",
              "      <td>15.586781</td>\n",
              "      <td>-0.174785</td>\n",
              "    </tr>\n",
              "    <tr>\n",
              "      <th>3</th>\n",
              "      <td>-23.203200</td>\n",
              "      <td>8.301919</td>\n",
              "      <td>16.095409</td>\n",
              "      <td>7.643220</td>\n",
              "      <td>16.914143</td>\n",
              "      <td>16.649280</td>\n",
              "      <td>-8.603661</td>\n",
              "      <td>16.012082</td>\n",
              "      <td>-11.373881</td>\n",
              "      <td>-21.142902</td>\n",
              "    </tr>\n",
              "    <tr>\n",
              "      <th>4</th>\n",
              "      <td>9.998677</td>\n",
              "      <td>-0.640020</td>\n",
              "      <td>2.602077</td>\n",
              "      <td>-4.334787</td>\n",
              "      <td>22.336607</td>\n",
              "      <td>-23.446092</td>\n",
              "      <td>20.818255</td>\n",
              "      <td>-17.437508</td>\n",
              "      <td>-0.637234</td>\n",
              "      <td>-16.413384</td>\n",
              "    </tr>\n",
              "  </tbody>\n",
              "</table>\n",
              "</div>\n",
              "      <button class=\"colab-df-convert\" onclick=\"convertToInteractive('df-30d8d4ac-53a3-48bc-a7c4-b6bb5b222ca2')\"\n",
              "              title=\"Convert this dataframe to an interactive table.\"\n",
              "              style=\"display:none;\">\n",
              "        \n",
              "  <svg xmlns=\"http://www.w3.org/2000/svg\" height=\"24px\"viewBox=\"0 0 24 24\"\n",
              "       width=\"24px\">\n",
              "    <path d=\"M0 0h24v24H0V0z\" fill=\"none\"/>\n",
              "    <path d=\"M18.56 5.44l.94 2.06.94-2.06 2.06-.94-2.06-.94-.94-2.06-.94 2.06-2.06.94zm-11 1L8.5 8.5l.94-2.06 2.06-.94-2.06-.94L8.5 2.5l-.94 2.06-2.06.94zm10 10l.94 2.06.94-2.06 2.06-.94-2.06-.94-.94-2.06-.94 2.06-2.06.94z\"/><path d=\"M17.41 7.96l-1.37-1.37c-.4-.4-.92-.59-1.43-.59-.52 0-1.04.2-1.43.59L10.3 9.45l-7.72 7.72c-.78.78-.78 2.05 0 2.83L4 21.41c.39.39.9.59 1.41.59.51 0 1.02-.2 1.41-.59l7.78-7.78 2.81-2.81c.8-.78.8-2.07 0-2.86zM5.41 20L4 18.59l7.72-7.72 1.47 1.35L5.41 20z\"/>\n",
              "  </svg>\n",
              "      </button>\n",
              "      \n",
              "  <style>\n",
              "    .colab-df-container {\n",
              "      display:flex;\n",
              "      flex-wrap:wrap;\n",
              "      gap: 12px;\n",
              "    }\n",
              "\n",
              "    .colab-df-convert {\n",
              "      background-color: #E8F0FE;\n",
              "      border: none;\n",
              "      border-radius: 50%;\n",
              "      cursor: pointer;\n",
              "      display: none;\n",
              "      fill: #1967D2;\n",
              "      height: 32px;\n",
              "      padding: 0 0 0 0;\n",
              "      width: 32px;\n",
              "    }\n",
              "\n",
              "    .colab-df-convert:hover {\n",
              "      background-color: #E2EBFA;\n",
              "      box-shadow: 0px 1px 2px rgba(60, 64, 67, 0.3), 0px 1px 3px 1px rgba(60, 64, 67, 0.15);\n",
              "      fill: #174EA6;\n",
              "    }\n",
              "\n",
              "    [theme=dark] .colab-df-convert {\n",
              "      background-color: #3B4455;\n",
              "      fill: #D2E3FC;\n",
              "    }\n",
              "\n",
              "    [theme=dark] .colab-df-convert:hover {\n",
              "      background-color: #434B5C;\n",
              "      box-shadow: 0px 1px 3px 1px rgba(0, 0, 0, 0.15);\n",
              "      filter: drop-shadow(0px 1px 2px rgba(0, 0, 0, 0.3));\n",
              "      fill: #FFFFFF;\n",
              "    }\n",
              "  </style>\n",
              "\n",
              "      <script>\n",
              "        const buttonEl =\n",
              "          document.querySelector('#df-30d8d4ac-53a3-48bc-a7c4-b6bb5b222ca2 button.colab-df-convert');\n",
              "        buttonEl.style.display =\n",
              "          google.colab.kernel.accessAllowed ? 'block' : 'none';\n",
              "\n",
              "        async function convertToInteractive(key) {\n",
              "          const element = document.querySelector('#df-30d8d4ac-53a3-48bc-a7c4-b6bb5b222ca2');\n",
              "          const dataTable =\n",
              "            await google.colab.kernel.invokeFunction('convertToInteractive',\n",
              "                                                     [key], {});\n",
              "          if (!dataTable) return;\n",
              "\n",
              "          const docLinkHtml = 'Like what you see? Visit the ' +\n",
              "            '<a target=\"_blank\" href=https://colab.research.google.com/notebooks/data_table.ipynb>data table notebook</a>'\n",
              "            + ' to learn more about interactive tables.';\n",
              "          element.innerHTML = '';\n",
              "          dataTable['output_type'] = 'display_data';\n",
              "          await google.colab.output.renderOutput(dataTable, element);\n",
              "          const docLink = document.createElement('div');\n",
              "          docLink.innerHTML = docLinkHtml;\n",
              "          element.appendChild(docLink);\n",
              "        }\n",
              "      </script>\n",
              "    </div>\n",
              "  </div>\n",
              "  "
            ]
          },
          "metadata": {},
          "execution_count": 7
        }
      ],
      "source": [
        "import pandas as pd\n",
        "import matplotlib as plt\n",
        "%matplotlib inline\n",
        "df = pd.read_csv('/content/sample_data/34_25.csv', header=None)\n",
        "df.head()"
      ]
    },
    {
      "cell_type": "code",
      "source": [
        "from sklearn.decomposition import PCA\n",
        "pca = PCA(n_components=2)\n",
        "data = pca.fit_transform(df)"
      ],
      "metadata": {
        "id": "DW7VO5FxEaxV"
      },
      "execution_count": null,
      "outputs": []
    },
    {
      "cell_type": "markdown",
      "source": [
        "**Answer to Question No.1: Введите координату первого объекта относительно первой главной компоненты.**"
      ],
      "metadata": {
        "id": "xqZzHl9TE6BY"
      }
    },
    {
      "cell_type": "code",
      "source": [
        "data[0][0]"
      ],
      "metadata": {
        "colab": {
          "base_uri": "https://localhost:8080/"
        },
        "id": "pKsw9YOVE7sR",
        "outputId": "55879248-6117-45ee-9f3f-97d6bfb55dc9"
      },
      "execution_count": null,
      "outputs": [
        {
          "output_type": "execute_result",
          "data": {
            "text/plain": [
              "-34.78385542265654"
            ]
          },
          "metadata": {},
          "execution_count": 3
        }
      ]
    },
    {
      "cell_type": "markdown",
      "source": [
        "**Введите координату первого объекта относительно второй главной компоненты.**\n"
      ],
      "metadata": {
        "id": "3NRpuTzCFQhV"
      }
    },
    {
      "cell_type": "code",
      "source": [
        "data[0][1]"
      ],
      "metadata": {
        "colab": {
          "base_uri": "https://localhost:8080/"
        },
        "id": "6msHXIFGFa_Y",
        "outputId": "ccfb468e-9eee-4b3d-b838-ebc326a87a66"
      },
      "execution_count": null,
      "outputs": [
        {
          "output_type": "execute_result",
          "data": {
            "text/plain": [
              "-22.595499921777215"
            ]
          },
          "metadata": {},
          "execution_count": 4
        }
      ]
    },
    {
      "cell_type": "markdown",
      "source": [
        "Phương sai: Đây là thước đo độ biến thiên hoặc đơn giản là đo lường mức độ lan truyền của tập dữ liệu. Về mặt toán học, nó là độ lệch bình phương trung bình so với điểm trung bình."
      ],
      "metadata": {
        "id": "pWOz_rrSFoaq"
      }
    },
    {
      "cell_type": "code",
      "source": [
        "import numpy as np\n",
        "pca = PCA(n_components=10, svd_solver='full')\n",
        "X_full = pca.fit(df).transform(df)\n",
        "\n",
        "explained_variance = np.round(np.cumsum(pca.explained_variance_ratio_),3)\n",
        "explained_variance\n",
        "# giá trị của sai số với mỗi chiều đc chọn: 1,2 dims "
      ],
      "metadata": {
        "colab": {
          "base_uri": "https://localhost:8080/"
        },
        "id": "3IXahPCIFqRv",
        "outputId": "7380b563-20d0-4f51-f2ae-d4c8926642f1"
      },
      "execution_count": null,
      "outputs": [
        {
          "output_type": "execute_result",
          "data": {
            "text/plain": [
              "array([0.406, 0.71 , 0.907, 0.994, 0.996, 0.997, 0.998, 0.999, 0.999,\n",
              "       1.   ])"
            ]
          },
          "metadata": {},
          "execution_count": 13
        }
      ]
    },
    {
      "cell_type": "code",
      "source": [
        "pca = PCA(n_components=3)\n",
        "data = pca.fit_transform(df)\n",
        "plt.pyplot.plot(pca.explained_variance_ratio_.cumsum())\n",
        "# đồ thị biểu hiện phần trăm dữ liệu bị mất phụ thuộc vào số chiều đc chọn để giảm kích thước\n",
        "# 1,2,3,4,5,6,7,8,9,10 dims"
      ],
      "metadata": {
        "colab": {
          "base_uri": "https://localhost:8080/",
          "height": 282
        },
        "id": "CIKCuWXgF2V2",
        "outputId": "5ec8452d-98f1-498b-90c2-5ffe0d8f2002"
      },
      "execution_count": null,
      "outputs": [
        {
          "output_type": "execute_result",
          "data": {
            "text/plain": [
              "[<matplotlib.lines.Line2D at 0x7fb0023f7fd0>]"
            ]
          },
          "metadata": {},
          "execution_count": 8
        },
        {
          "output_type": "display_data",
          "data": {
            "text/plain": [
              "<Figure size 432x288 with 1 Axes>"
            ],
            "image/png": "[encoded data removed]"
          },
          "metadata": {
            "needs_background": "light"
          }
        }
      ]
    },
    {
      "cell_type": "markdown",
      "source": [
        "**Какое количество групп объектов можно выделить, если использовать только первые две главных компоненты?**"
      ],
      "metadata": {
        "id": "DGT5IARCHU75"
      }
    },
    {
      "cell_type": "code",
      "source": [
        "plt.pyplot.scatter(data[:,0], data[:,1])\n",
        "#result = 5"
      ],
      "metadata": {
        "colab": {
          "base_uri": "https://localhost:8080/",
          "height": 282
        },
        "id": "fIykdsFPHZIR",
        "outputId": "d488d1a2-3aa1-48f9-e3f6-5dbb278eb3a0"
      },
      "execution_count": null,
      "outputs": [
        {
          "output_type": "execute_result",
          "data": {
            "text/plain": [
              "<matplotlib.collections.PathCollection at 0x7fb00250c190>"
            ]
          },
          "metadata": {},
          "execution_count": 9
        },
        {
          "output_type": "display_data",
          "data": {
            "text/plain": [
              "<Figure size 432x288 with 1 Axes>"
            ],
            "image/png": "[encoded data removed]"
          },
          "metadata": {
            "needs_background": "light"
          }
        }
      ]
    }
  ]
}